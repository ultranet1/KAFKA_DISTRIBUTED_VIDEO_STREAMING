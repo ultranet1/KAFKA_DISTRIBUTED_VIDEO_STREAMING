{
  "nbformat": 4,
  "nbformat_minor": 0,
  "metadata": {
    "colab": {
      "name": "KAFKA.ipynb",
      "provenance": [],
      "collapsed_sections": [],
      "include_colab_link": true
    },
    "kernelspec": {
      "display_name": "Python 3",
      "name": "python3"
    }
  },
  "cells": [
    {
      "cell_type": "markdown",
      "metadata": {
        "id": "view-in-github",
        "colab_type": "text"
      },
      "source": [
        "<a href=\"https://colab.research.google.com/github/ultranet1/KAFKA_DISTRIBUTED_VIDEO_STREAMING/blob/main/KAFKA.ipynb\" target=\"_parent\"><img src=\"https://colab.research.google.com/assets/colab-badge.svg\" alt=\"Open In Colab\"/></a>"
      ]
    },
    {
      "cell_type": "markdown",
      "metadata": {
        "id": "og03_ebzFV2x"
      },
      "source": [
        "# INSTALL AND SETUP\n"
      ]
    },
    {
      "cell_type": "code",
      "metadata": {
        "id": "7c1jzHT8j1d5",
        "colab": {
          "base_uri": "https://localhost:8080/"
        },
        "outputId": "318bd5f8-22d3-4893-a4ad-88312f271e22"
      },
      "source": [
        "#! apt-get update -y\n",
        "! sudo apt-get upgrade -y"
      ],
      "execution_count": 2,
      "outputs": [
        {
          "output_type": "stream",
          "text": [
            "Reading package lists... Done\n",
            "Building dependency tree       \n",
            "Reading state information... Done\n",
            "Calculating upgrade... Done\n",
            "The following packages have been kept back:\n",
            "  libcudnn8 libcudnn8-dev libnccl-dev libnccl2\n",
            "The following packages will be upgraded:\n",
            "  binutils binutils-common binutils-x86-64-linux-gnu cuda-compat-11-0 gnupg2\n",
            "  gzip libaudit-common libaudit1 libbinutils libc-bin libcublas-dev\n",
            "  libcublas10 libcudnn7 libcudnn7-dev libhogweed4 libldap-2.4-2 libldap-common\n",
            "  liblz4-1 libnettle6 libp11-kit0 libpam-modules libpam-modules-bin\n",
            "  libpam-runtime libpam0g libperl5.26 libsasl2-2 libsasl2-modules-db\n",
            "  libseccomp2 libzstd1 linux-libc-dev openssl perl perl-base perl-modules-5.26\n",
            "  tar ubuntu-keyring\n",
            "36 upgraded, 0 newly installed, 0 to remove and 4 not upgraded.\n",
            "Need to get 461 MB of archives.\n",
            "After this operation, 69.9 MB of additional disk space will be used.\n",
            "Get:1 https://developer.download.nvidia.com/compute/cuda/repos/ubuntu1804/x86_64  cuda-compat-11-0 450.119.04-1 [6,712 kB]\n",
            "Get:2 http://archive.ubuntu.com/ubuntu bionic-updates/main amd64 gzip amd64 1.6-5ubuntu1.1 [89.8 kB]\n",
            "Get:3 https://developer.download.nvidia.com/compute/cuda/repos/ubuntu1804/x86_64  libcublas10 10.2.3.254-1 [43.1 MB]\n",
            "Get:4 http://archive.ubuntu.com/ubuntu bionic-updates/main amd64 libperl5.26 amd64 5.26.1-6ubuntu0.5 [3,534 kB]\n",
            "Get:5 https://developer.download.nvidia.com/compute/cuda/repos/ubuntu1804/x86_64  libcublas-dev 10.2.3.254-1 [42.4 MB]\n",
            "Get:6 http://archive.ubuntu.com/ubuntu bionic-updates/main amd64 perl amd64 5.26.1-6ubuntu0.5 [201 kB]\n",
            "Get:7 http://archive.ubuntu.com/ubuntu bionic-updates/main amd64 perl-base amd64 5.26.1-6ubuntu0.5 [1,391 kB]\n",
            "Get:8 http://archive.ubuntu.com/ubuntu bionic-updates/main amd64 perl-modules-5.26 all 5.26.1-6ubuntu0.5 [2,762 kB]\n",
            "Get:9 http://archive.ubuntu.com/ubuntu bionic-updates/main amd64 tar amd64 1.29b-2ubuntu0.2 [234 kB]\n",
            "Get:10 http://archive.ubuntu.com/ubuntu bionic-updates/main amd64 libc-bin amd64 2.27-3ubuntu1.4 [643 kB]\n",
            "Get:11 http://archive.ubuntu.com/ubuntu bionic-updates/main amd64 libaudit-common all 1:2.8.2-1ubuntu1.1 [4,068 B]\n",
            "Get:12 http://archive.ubuntu.com/ubuntu bionic-updates/main amd64 libaudit1 amd64 1:2.8.2-1ubuntu1.1 [38.7 kB]\n",
            "Get:13 http://archive.ubuntu.com/ubuntu bionic-updates/main amd64 libpam0g amd64 1.1.8-3.6ubuntu2.18.04.3 [55.0 kB]\n",
            "Get:14 http://archive.ubuntu.com/ubuntu bionic-updates/main amd64 libpam-modules-bin amd64 1.1.8-3.6ubuntu2.18.04.3 [40.3 kB]\n",
            "Get:15 http://archive.ubuntu.com/ubuntu bionic-updates/main amd64 libpam-modules amd64 1.1.8-3.6ubuntu2.18.04.3 [252 kB]\n",
            "Get:16 http://archive.ubuntu.com/ubuntu bionic-updates/main amd64 liblz4-1 amd64 0.0~r131-2ubuntu3.1 [48.5 kB]\n",
            "Get:17 http://archive.ubuntu.com/ubuntu bionic-updates/main amd64 libpam-runtime all 1.1.8-3.6ubuntu2.18.04.3 [37.1 kB]\n",
            "Get:18 http://archive.ubuntu.com/ubuntu bionic-updates/main amd64 libzstd1 amd64 1.3.3+dfsg-2ubuntu1.2 [189 kB]\n",
            "Get:19 http://archive.ubuntu.com/ubuntu bionic-updates/main amd64 libnettle6 amd64 3.4.1-0ubuntu0.18.04.1 [111 kB]\n",
            "Get:20 http://archive.ubuntu.com/ubuntu bionic-updates/main amd64 libhogweed4 amd64 3.4.1-0ubuntu0.18.04.1 [140 kB]\n",
            "Get:21 http://archive.ubuntu.com/ubuntu bionic-updates/main amd64 libp11-kit0 amd64 0.23.9-2ubuntu0.1 [187 kB]\n",
            "Get:22 http://archive.ubuntu.com/ubuntu bionic-updates/main amd64 libseccomp2 amd64 2.5.1-1ubuntu1~18.04.1 [43.1 kB]\n",
            "Get:23 http://archive.ubuntu.com/ubuntu bionic-updates/main amd64 ubuntu-keyring all 2018.09.18.1~18.04.2 [22.3 kB]\n",
            "Get:24 http://archive.ubuntu.com/ubuntu bionic-updates/main amd64 openssl amd64 1.1.1-1ubuntu2.1~18.04.9 [614 kB]\n",
            "Get:25 http://archive.ubuntu.com/ubuntu bionic-updates/main amd64 binutils-x86-64-linux-gnu amd64 2.30-21ubuntu1~18.04.5 [1,839 kB]\n",
            "Get:26 http://archive.ubuntu.com/ubuntu bionic-updates/main amd64 binutils-common amd64 2.30-21ubuntu1~18.04.5 [197 kB]\n",
            "Get:27 http://archive.ubuntu.com/ubuntu bionic-updates/main amd64 binutils amd64 2.30-21ubuntu1~18.04.5 [3,388 B]\n",
            "Get:28 http://archive.ubuntu.com/ubuntu bionic-updates/main amd64 libbinutils amd64 2.30-21ubuntu1~18.04.5 [489 kB]\n",
            "Get:29 http://archive.ubuntu.com/ubuntu bionic-updates/main amd64 libsasl2-modules-db amd64 2.1.27~101-g0780600+dfsg-3ubuntu2.3 [15.0 kB]\n",
            "Get:30 http://archive.ubuntu.com/ubuntu bionic-updates/main amd64 libsasl2-2 amd64 2.1.27~101-g0780600+dfsg-3ubuntu2.3 [49.2 kB]\n",
            "Get:31 http://archive.ubuntu.com/ubuntu bionic-updates/main amd64 libldap-common all 2.4.45+dfsg-1ubuntu1.10 [15.8 kB]\n",
            "Get:32 http://archive.ubuntu.com/ubuntu bionic-updates/main amd64 libldap-2.4-2 amd64 2.4.45+dfsg-1ubuntu1.10 [154 kB]\n",
            "Ign:33 http://archive.ubuntu.com/ubuntu bionic-updates/main amd64 linux-libc-dev amd64 4.15.0-147.151\n",
            "Get:34 http://archive.ubuntu.com/ubuntu bionic-updates/universe amd64 gnupg2 all 2.2.4-1ubuntu1.4 [5,292 B]\n",
            "Err:33 http://security.ubuntu.com/ubuntu bionic-updates/main amd64 linux-libc-dev amd64 4.15.0-147.151\n",
            "  404  Not Found [IP: 91.189.88.142 80]\n",
            "Get:35 https://developer.download.nvidia.com/compute/machine-learning/repos/ubuntu1804/x86_64  libcudnn7-dev 7.6.5.32-1+cuda10.2 [165 MB]\n",
            "Get:36 https://developer.download.nvidia.com/compute/machine-learning/repos/ubuntu1804/x86_64  libcudnn7 7.6.5.32-1+cuda10.2 [189 MB]\n",
            "Fetched 460 MB in 10s (47.6 MB/s)\n",
            "E: Failed to fetch http://security.ubuntu.com/ubuntu/pool/main/l/linux/linux-libc-dev_4.15.0-147.151_amd64.deb  404  Not Found [IP: 91.189.88.142 80]\n",
            "E: Unable to fetch some archives, maybe run apt-get update or try with --fix-missing?\n"
          ],
          "name": "stdout"
        }
      ]
    },
    {
      "cell_type": "markdown",
      "metadata": {
        "id": "jAauCTIDo1Ar"
      },
      "source": [
        "## INSTALL JAVA"
      ]
    },
    {
      "cell_type": "code",
      "metadata": {
        "id": "OenDCnF9ouvv",
        "colab": {
          "base_uri": "https://localhost:8080/"
        },
        "outputId": "c5cd868d-4411-4d62-87cf-7d61fa6fbde4"
      },
      "source": [
        "! sudo add-apt-repository -y ppa:webupd8team/java"
      ],
      "execution_count": 3,
      "outputs": [
        {
          "output_type": "stream",
          "text": [
            "\r0% [Working]\r            \rGet:1 http://security.ubuntu.com/ubuntu bionic-security InRelease [88.7 kB]\n",
            "\r0% [Connecting to archive.ubuntu.com (91.189.88.152)] [1 InRelease 14.2 kB/88.7\r                                                                               \rGet:2 https://cloud.r-project.org/bin/linux/ubuntu bionic-cran40/ InRelease [3,626 B]\n",
            "Ign:3 https://developer.download.nvidia.com/compute/cuda/repos/ubuntu1804/x86_64  InRelease\n",
            "Ign:4 https://developer.download.nvidia.com/compute/machine-learning/repos/ubuntu1804/x86_64  InRelease\n",
            "Get:5 http://ppa.launchpad.net/c2d4u.team/c2d4u4.0+/ubuntu bionic InRelease [15.9 kB]\n",
            "Get:6 https://developer.download.nvidia.com/compute/cuda/repos/ubuntu1804/x86_64  Release [697 B]\n",
            "Hit:7 https://developer.download.nvidia.com/compute/machine-learning/repos/ubuntu1804/x86_64  Release\n",
            "Get:8 https://developer.download.nvidia.com/compute/cuda/repos/ubuntu1804/x86_64  Release.gpg [836 B]\n",
            "Hit:9 http://archive.ubuntu.com/ubuntu bionic InRelease\n",
            "Get:10 https://cloud.r-project.org/bin/linux/ubuntu bionic-cran40/ Packages [62.9 kB]\n",
            "Get:11 http://archive.ubuntu.com/ubuntu bionic-updates InRelease [88.7 kB]\n",
            "Get:12 http://security.ubuntu.com/ubuntu bionic-security/multiverse amd64 Packages [26.7 kB]\n",
            "Get:13 http://security.ubuntu.com/ubuntu bionic-security/main amd64 Packages [2,258 kB]\n",
            "Hit:15 http://ppa.launchpad.net/cran/libgit2/ubuntu bionic InRelease\n",
            "Ign:16 https://developer.download.nvidia.com/compute/cuda/repos/ubuntu1804/x86_64  Packages\n",
            "Get:16 https://developer.download.nvidia.com/compute/cuda/repos/ubuntu1804/x86_64  Packages [680 kB]\n",
            "Get:17 http://security.ubuntu.com/ubuntu bionic-security/universe amd64 Packages [1,420 kB]\n",
            "Hit:18 http://ppa.launchpad.net/deadsnakes/ppa/ubuntu bionic InRelease\n",
            "Get:19 http://security.ubuntu.com/ubuntu bionic-security/restricted amd64 Packages [505 kB]\n",
            "Get:20 http://archive.ubuntu.com/ubuntu bionic-backports InRelease [74.6 kB]\n",
            "Get:21 http://ppa.launchpad.net/graphics-drivers/ppa/ubuntu bionic InRelease [21.3 kB]\n",
            "Get:22 http://ppa.launchpad.net/webupd8team/java/ubuntu bionic InRelease [15.4 kB]\n",
            "Get:23 http://archive.ubuntu.com/ubuntu bionic-updates/main amd64 Packages [2,694 kB]\n",
            "Get:24 http://ppa.launchpad.net/c2d4u.team/c2d4u4.0+/ubuntu bionic/main Sources [1,786 kB]\n",
            "Get:25 http://archive.ubuntu.com/ubuntu bionic-updates/restricted amd64 Packages [537 kB]\n",
            "Get:26 http://archive.ubuntu.com/ubuntu bionic-updates/universe amd64 Packages [2,194 kB]\n",
            "Get:27 http://archive.ubuntu.com/ubuntu bionic-updates/multiverse amd64 Packages [33.6 kB]\n",
            "Get:28 http://ppa.launchpad.net/c2d4u.team/c2d4u4.0+/ubuntu bionic/main amd64 Packages [914 kB]\n",
            "Get:29 http://ppa.launchpad.net/graphics-drivers/ppa/ubuntu bionic/main amd64 Packages [44.1 kB]\n",
            "Fetched 13.5 MB in 3s (4,011 kB/s)\n",
            "Reading package lists... Done\n"
          ],
          "name": "stdout"
        }
      ]
    },
    {
      "cell_type": "markdown",
      "metadata": {
        "id": "nt_PVwKwpF25"
      },
      "source": [
        "## UPDATE AGAIN"
      ]
    },
    {
      "cell_type": "code",
      "metadata": {
        "id": "G27ooME5pMwc",
        "colab": {
          "base_uri": "https://localhost:8080/"
        },
        "outputId": "dfee5c3b-5014-4769-b1da-ab46b7e61830"
      },
      "source": [
        "! sudo apt-get update"
      ],
      "execution_count": 4,
      "outputs": [
        {
          "output_type": "stream",
          "text": [
            "\r0% [Working]\r            \rHit:1 http://security.ubuntu.com/ubuntu bionic-security InRelease\n",
            "\r0% [Connecting to archive.ubuntu.com (91.189.88.152)] [Waiting for headers] [Co\r                                                                               \rHit:2 https://cloud.r-project.org/bin/linux/ubuntu bionic-cran40/ InRelease\n",
            "\r0% [Connecting to archive.ubuntu.com (91.189.88.152)] [Connecting to ppa.launch\r0% [1 InRelease gpgv 88.7 kB] [Connecting to archive.ubuntu.com (91.189.88.152)\r                                                                               \rIgn:3 https://developer.download.nvidia.com/compute/cuda/repos/ubuntu1804/x86_64  InRelease\n",
            "Ign:4 https://developer.download.nvidia.com/compute/machine-learning/repos/ubuntu1804/x86_64  InRelease\n",
            "Hit:5 http://ppa.launchpad.net/c2d4u.team/c2d4u4.0+/ubuntu bionic InRelease\n",
            "Hit:6 https://developer.download.nvidia.com/compute/cuda/repos/ubuntu1804/x86_64  Release\n",
            "Hit:7 https://developer.download.nvidia.com/compute/machine-learning/repos/ubuntu1804/x86_64  Release\n",
            "Hit:8 http://archive.ubuntu.com/ubuntu bionic InRelease\n",
            "Hit:9 http://archive.ubuntu.com/ubuntu bionic-updates InRelease\n",
            "Hit:10 http://ppa.launchpad.net/cran/libgit2/ubuntu bionic InRelease\n",
            "Hit:11 http://archive.ubuntu.com/ubuntu bionic-backports InRelease\n",
            "Hit:14 http://ppa.launchpad.net/deadsnakes/ppa/ubuntu bionic InRelease\n",
            "Hit:15 http://ppa.launchpad.net/graphics-drivers/ppa/ubuntu bionic InRelease\n",
            "Hit:16 http://ppa.launchpad.net/webupd8team/java/ubuntu bionic InRelease\n",
            "Reading package lists... Done\n"
          ],
          "name": "stdout"
        }
      ]
    },
    {
      "cell_type": "markdown",
      "metadata": {
        "id": "JUom0zPfpPPp"
      },
      "source": [
        "## INSTALL JDK"
      ]
    },
    {
      "cell_type": "code",
      "metadata": {
        "id": "IJT75Us6paw_",
        "colab": {
          "base_uri": "https://localhost:8080/"
        },
        "outputId": "09ff35ad-41fb-4ed1-b86a-af40406c04d2"
      },
      "source": [
        "! sudo apt install default-jdk"
      ],
      "execution_count": 5,
      "outputs": [
        {
          "output_type": "stream",
          "text": [
            "Reading package lists... Done\n",
            "Building dependency tree       \n",
            "Reading state information... Done\n",
            "The following additional packages will be installed:\n",
            "  default-jdk-headless openjdk-11-jdk\n",
            "Suggested packages:\n",
            "  openjdk-11-demo openjdk-11-source visualvm\n",
            "The following NEW packages will be installed:\n",
            "  default-jdk default-jdk-headless openjdk-11-jdk\n",
            "0 upgraded, 3 newly installed, 0 to remove and 93 not upgraded.\n",
            "Need to get 1,689 kB of archives.\n",
            "After this operation, 1,812 kB of additional disk space will be used.\n",
            "Get:1 http://archive.ubuntu.com/ubuntu bionic-updates/main amd64 default-jdk-headless amd64 2:1.11-68ubuntu1~18.04.1 [1,132 B]\n",
            "Get:2 http://archive.ubuntu.com/ubuntu bionic-updates/main amd64 openjdk-11-jdk amd64 11.0.11+9-0ubuntu2~18.04 [1,687 kB]\n",
            "Get:3 http://archive.ubuntu.com/ubuntu bionic-updates/main amd64 default-jdk amd64 2:1.11-68ubuntu1~18.04.1 [1,092 B]\n",
            "Fetched 1,689 kB in 1s (1,500 kB/s)\n",
            "debconf: unable to initialize frontend: Dialog\n",
            "debconf: (No usable dialog-like program is installed, so the dialog based frontend cannot be used. at /usr/share/perl5/Debconf/FrontEnd/Dialog.pm line 76, <> line 3.)\n",
            "debconf: falling back to frontend: Readline\n",
            "debconf: unable to initialize frontend: Readline\n",
            "debconf: (This frontend requires a controlling tty.)\n",
            "debconf: falling back to frontend: Teletype\n",
            "dpkg-preconfigure: unable to re-open stdin: \n",
            "Selecting previously unselected package default-jdk-headless.\n",
            "(Reading database ... 160837 files and directories currently installed.)\n",
            "Preparing to unpack .../default-jdk-headless_2%3a1.11-68ubuntu1~18.04.1_amd64.deb ...\n",
            "Unpacking default-jdk-headless (2:1.11-68ubuntu1~18.04.1) ...\n",
            "Selecting previously unselected package openjdk-11-jdk:amd64.\n",
            "Preparing to unpack .../openjdk-11-jdk_11.0.11+9-0ubuntu2~18.04_amd64.deb ...\n",
            "Unpacking openjdk-11-jdk:amd64 (11.0.11+9-0ubuntu2~18.04) ...\n",
            "Selecting previously unselected package default-jdk.\n",
            "Preparing to unpack .../default-jdk_2%3a1.11-68ubuntu1~18.04.1_amd64.deb ...\n",
            "Unpacking default-jdk (2:1.11-68ubuntu1~18.04.1) ...\n",
            "Setting up openjdk-11-jdk:amd64 (11.0.11+9-0ubuntu2~18.04) ...\n",
            "update-alternatives: using /usr/lib/jvm/java-11-openjdk-amd64/bin/jconsole to provide /usr/bin/jconsole (jconsole) in auto mode\n",
            "Setting up default-jdk-headless (2:1.11-68ubuntu1~18.04.1) ...\n",
            "Setting up default-jdk (2:1.11-68ubuntu1~18.04.1) ...\n"
          ],
          "name": "stdout"
        }
      ]
    },
    {
      "cell_type": "markdown",
      "metadata": {
        "id": "HS6Tfc52pnkD"
      },
      "source": [
        "## INSTALL ZOOKEEPER"
      ]
    },
    {
      "cell_type": "code",
      "metadata": {
        "id": "08ish_lfpq2r",
        "colab": {
          "base_uri": "https://localhost:8080/"
        },
        "outputId": "a89b5152-7fcd-425b-bbed-34c735d774c0"
      },
      "source": [
        "! sudo apt-get install zookeeperd"
      ],
      "execution_count": 6,
      "outputs": [
        {
          "output_type": "stream",
          "text": [
            "Reading package lists... Done\n",
            "Building dependency tree       \n",
            "Reading state information... Done\n",
            "The following additional packages will be installed:\n",
            "  libjline-java liblog4j1.2-java libnetty-3.9-java libslf4j-java\n",
            "  libxerces2-java libxml-commons-external-java libxml-commons-resolver1.1-java\n",
            "  libzookeeper-java zookeeper\n",
            "Suggested packages:\n",
            "  libjline-java-doc liblog4j1.2-java-doc libmail-java libbcpkix-java\n",
            "  libcommons-logging-java libjboss-logging-java libnetty-tcnative-java\n",
            "  libservlet3.1-java libxerces2-java-doc libxml-commons-resolver1.1-java-doc\n",
            "  libzookeeper-java-doc\n",
            "The following NEW packages will be installed:\n",
            "  libjline-java liblog4j1.2-java libnetty-3.9-java libslf4j-java\n",
            "  libxerces2-java libxml-commons-external-java libxml-commons-resolver1.1-java\n",
            "  libzookeeper-java zookeeper zookeeperd\n",
            "0 upgraded, 10 newly installed, 0 to remove and 93 not upgraded.\n",
            "Need to get 4,991 kB of archives.\n",
            "After this operation, 6,122 kB of additional disk space will be used.\n",
            "Get:1 http://archive.ubuntu.com/ubuntu bionic/universe amd64 libjline-java all 1.0-2 [69.4 kB]\n",
            "Get:2 http://archive.ubuntu.com/ubuntu bionic-updates/universe amd64 liblog4j1.2-java all 1.2.17-8+deb10u1build0.18.04.1 [435 kB]\n",
            "Get:3 http://archive.ubuntu.com/ubuntu bionic-updates/universe amd64 libnetty-3.9-java all 3.9.9.Final-1+deb9u1build0.18.04.1 [1,192 kB]\n",
            "Get:4 http://archive.ubuntu.com/ubuntu bionic/universe amd64 libslf4j-java all 1.7.25-3 [141 kB]\n",
            "Get:5 http://archive.ubuntu.com/ubuntu bionic/universe amd64 libxml-commons-external-java all 1.4.01-3 [240 kB]\n",
            "Get:6 http://archive.ubuntu.com/ubuntu bionic/universe amd64 libxml-commons-resolver1.1-java all 1.2-9 [91.1 kB]\n",
            "Get:7 http://archive.ubuntu.com/ubuntu bionic/universe amd64 libxerces2-java all 2.11.0-8 [1,344 kB]\n",
            "Get:8 http://archive.ubuntu.com/ubuntu bionic/universe amd64 libzookeeper-java all 3.4.10-3 [1,360 kB]\n",
            "Get:9 http://archive.ubuntu.com/ubuntu bionic/universe amd64 zookeeper all 3.4.10-3 [111 kB]\n",
            "Get:10 http://archive.ubuntu.com/ubuntu bionic/universe amd64 zookeeperd all 3.4.10-3 [8,316 B]\n",
            "Fetched 4,991 kB in 1s (3,510 kB/s)\n",
            "debconf: unable to initialize frontend: Dialog\n",
            "debconf: (No usable dialog-like program is installed, so the dialog based frontend cannot be used. at /usr/share/perl5/Debconf/FrontEnd/Dialog.pm line 76, <> line 10.)\n",
            "debconf: falling back to frontend: Readline\n",
            "debconf: unable to initialize frontend: Readline\n",
            "debconf: (This frontend requires a controlling tty.)\n",
            "debconf: falling back to frontend: Teletype\n",
            "dpkg-preconfigure: unable to re-open stdin: \n",
            "Selecting previously unselected package libjline-java.\n",
            "(Reading database ... 160856 files and directories currently installed.)\n",
            "Preparing to unpack .../0-libjline-java_1.0-2_all.deb ...\n",
            "Unpacking libjline-java (1.0-2) ...\n",
            "Selecting previously unselected package liblog4j1.2-java.\n",
            "Preparing to unpack .../1-liblog4j1.2-java_1.2.17-8+deb10u1build0.18.04.1_all.deb ...\n",
            "Unpacking liblog4j1.2-java (1.2.17-8+deb10u1build0.18.04.1) ...\n",
            "Selecting previously unselected package libnetty-3.9-java.\n",
            "Preparing to unpack .../2-libnetty-3.9-java_3.9.9.Final-1+deb9u1build0.18.04.1_all.deb ...\n",
            "Unpacking libnetty-3.9-java (3.9.9.Final-1+deb9u1build0.18.04.1) ...\n",
            "Selecting previously unselected package libslf4j-java.\n",
            "Preparing to unpack .../3-libslf4j-java_1.7.25-3_all.deb ...\n",
            "Unpacking libslf4j-java (1.7.25-3) ...\n",
            "Selecting previously unselected package libxml-commons-external-java.\n",
            "Preparing to unpack .../4-libxml-commons-external-java_1.4.01-3_all.deb ...\n",
            "Unpacking libxml-commons-external-java (1.4.01-3) ...\n",
            "Selecting previously unselected package libxml-commons-resolver1.1-java.\n",
            "Preparing to unpack .../5-libxml-commons-resolver1.1-java_1.2-9_all.deb ...\n",
            "Unpacking libxml-commons-resolver1.1-java (1.2-9) ...\n",
            "Selecting previously unselected package libxerces2-java.\n",
            "Preparing to unpack .../6-libxerces2-java_2.11.0-8_all.deb ...\n",
            "Unpacking libxerces2-java (2.11.0-8) ...\n",
            "Selecting previously unselected package libzookeeper-java.\n",
            "Preparing to unpack .../7-libzookeeper-java_3.4.10-3_all.deb ...\n",
            "Unpacking libzookeeper-java (3.4.10-3) ...\n",
            "Selecting previously unselected package zookeeper.\n",
            "Preparing to unpack .../8-zookeeper_3.4.10-3_all.deb ...\n",
            "Unpacking zookeeper (3.4.10-3) ...\n",
            "Selecting previously unselected package zookeeperd.\n",
            "Preparing to unpack .../9-zookeeperd_3.4.10-3_all.deb ...\n",
            "Unpacking zookeeperd (3.4.10-3) ...\n",
            "Setting up libslf4j-java (1.7.25-3) ...\n",
            "Setting up libnetty-3.9-java (3.9.9.Final-1+deb9u1build0.18.04.1) ...\n",
            "Setting up libxml-commons-external-java (1.4.01-3) ...\n",
            "Setting up libjline-java (1.0-2) ...\n",
            "Setting up liblog4j1.2-java (1.2.17-8+deb10u1build0.18.04.1) ...\n",
            "Setting up libxml-commons-resolver1.1-java (1.2-9) ...\n",
            "Setting up libxerces2-java (2.11.0-8) ...\n",
            "Setting up libzookeeper-java (3.4.10-3) ...\n",
            "Setting up zookeeper (3.4.10-3) ...\n",
            "adduser: Warning: The home directory `/var/lib/zookeeper' does not belong to the user you are currently creating.\n",
            "update-alternatives: using /etc/zookeeper/conf_example to provide /etc/zookeeper/conf (zookeeper-conf) in auto mode\n",
            "Setting up zookeeperd (3.4.10-3) ...\n",
            "invoke-rc.d: could not determine current runlevel\n",
            "invoke-rc.d: policy-rc.d denied execution of start.\n",
            "Processing triggers for systemd (237-3ubuntu10.48) ...\n"
          ],
          "name": "stdout"
        }
      ]
    },
    {
      "cell_type": "markdown",
      "metadata": {
        "id": "g8-pClAKqx6o"
      },
      "source": [
        "## START ZOOKEEPER AS A DAEMON"
      ]
    },
    {
      "cell_type": "code",
      "metadata": {
        "id": "uAM4G2zVrQu7",
        "colab": {
          "base_uri": "https://localhost:8080/"
        },
        "outputId": "cc3a422e-1a64-4959-c188-3e2e77ec0fbd"
      },
      "source": [
        "# INSRALL NETSTAT FIRST\n",
        "! apt install net-tools"
      ],
      "execution_count": 7,
      "outputs": [
        {
          "output_type": "stream",
          "text": [
            "Reading package lists... Done\n",
            "Building dependency tree       \n",
            "Reading state information... Done\n",
            "The following NEW packages will be installed:\n",
            "  net-tools\n",
            "0 upgraded, 1 newly installed, 0 to remove and 93 not upgraded.\n",
            "Need to get 194 kB of archives.\n",
            "After this operation, 803 kB of additional disk space will be used.\n",
            "Get:1 http://archive.ubuntu.com/ubuntu bionic/main amd64 net-tools amd64 1.60+git20161116.90da8a0-1ubuntu1 [194 kB]\n",
            "Fetched 194 kB in 1s (291 kB/s)\n",
            "Selecting previously unselected package net-tools.\n",
            "(Reading database ... 161124 files and directories currently installed.)\n",
            "Preparing to unpack .../net-tools_1.60+git20161116.90da8a0-1ubuntu1_amd64.deb ...\n",
            "Unpacking net-tools (1.60+git20161116.90da8a0-1ubuntu1) ...\n",
            "Setting up net-tools (1.60+git20161116.90da8a0-1ubuntu1) ...\n",
            "Processing triggers for man-db (2.8.3-2ubuntu0.1) ...\n"
          ],
          "name": "stdout"
        }
      ]
    },
    {
      "cell_type": "code",
      "metadata": {
        "id": "4yOtvWauqtqR"
      },
      "source": [
        "! netstat -ant | grep :2181"
      ],
      "execution_count": 8,
      "outputs": []
    },
    {
      "cell_type": "code",
      "metadata": {
        "id": "m61jKptCrawa",
        "colab": {
          "base_uri": "https://localhost:8080/"
        },
        "outputId": "2fd969fe-9ed6-4a7b-eb88-82a5b64663b4"
      },
      "source": [
        "! netstat -nr"
      ],
      "execution_count": 9,
      "outputs": [
        {
          "output_type": "stream",
          "text": [
            "Kernel IP routing table\n",
            "Destination     Gateway         Genmask         Flags   MSS Window  irtt Iface\n",
            "0.0.0.0         172.28.0.1      0.0.0.0         UG        0 0          0 eth0\n",
            "172.28.0.0      0.0.0.0         255.255.0.0     U         0 0          0 eth0\n"
          ],
          "name": "stdout"
        }
      ]
    },
    {
      "cell_type": "markdown",
      "metadata": {
        "id": "BEHd5ixDrtgY"
      },
      "source": [
        "## DOWNLOAD KAFKA FROM APACHE-SITE"
      ]
    },
    {
      "cell_type": "code",
      "metadata": {
        "id": "5T2ZbzWKsb7d",
        "colab": {
          "base_uri": "https://localhost:8080/"
        },
        "outputId": "11d10bcc-39bb-48a9-e7f3-5481373040fa"
      },
      "source": [
        "! wget https://apache.claz.org/kafka/2.8.0/kafka_2.12-2.8.0.tgz"
      ],
      "execution_count": 10,
      "outputs": [
        {
          "output_type": "stream",
          "text": [
            "--2021-08-01 18:55:18--  https://apache.claz.org/kafka/2.8.0/kafka_2.12-2.8.0.tgz\n",
            "Resolving apache.claz.org (apache.claz.org)... 69.162.86.134\n",
            "Connecting to apache.claz.org (apache.claz.org)|69.162.86.134|:443... connected.\n",
            "HTTP request sent, awaiting response... 200 OK\n",
            "Length: 71542357 (68M) [application/x-gzip]\n",
            "Saving to: ‘kafka_2.12-2.8.0.tgz’\n",
            "\n",
            "kafka_2.12-2.8.0.tg 100%[===================>]  68.23M   515KB/s    in 2m 9s   \n",
            "\n",
            "2021-08-01 18:57:27 (541 KB/s) - ‘kafka_2.12-2.8.0.tgz’ saved [71542357/71542357]\n",
            "\n"
          ],
          "name": "stdout"
        }
      ]
    },
    {
      "cell_type": "markdown",
      "metadata": {
        "id": "EMmw95udryDn"
      },
      "source": [
        "## MAKE DIR FOR KAFKA\n"
      ]
    },
    {
      "cell_type": "code",
      "metadata": {
        "id": "9e9XM9XRsjjk"
      },
      "source": [
        "! sudo mkdir /opt/Kafka"
      ],
      "execution_count": 11,
      "outputs": []
    },
    {
      "cell_type": "markdown",
      "metadata": {
        "id": "gmEJGLfKsyMV"
      },
      "source": [
        "## EXTRACT FILE INTO NEW DIRECTORY"
      ]
    },
    {
      "cell_type": "code",
      "metadata": {
        "id": "CnMtX6_ms3SX",
        "colab": {
          "base_uri": "https://localhost:8080/"
        },
        "outputId": "53dac520-940d-4366-b1b4-d9273c3580eb"
      },
      "source": [
        "! sudo tar -xvf kafka_2.12-2.8.0.tgz "
      ],
      "execution_count": 12,
      "outputs": [
        {
          "output_type": "stream",
          "text": [
            "kafka_2.12-2.8.0/\n",
            "kafka_2.12-2.8.0/LICENSE\n",
            "kafka_2.12-2.8.0/NOTICE\n",
            "kafka_2.12-2.8.0/bin/\n",
            "kafka_2.12-2.8.0/bin/zookeeper-shell.sh\n",
            "kafka_2.12-2.8.0/bin/kafka-log-dirs.sh\n",
            "kafka_2.12-2.8.0/bin/zookeeper-server-stop.sh\n",
            "kafka_2.12-2.8.0/bin/kafka-configs.sh\n",
            "kafka_2.12-2.8.0/bin/kafka-server-stop.sh\n",
            "kafka_2.12-2.8.0/bin/windows/\n",
            "kafka_2.12-2.8.0/bin/windows/kafka-delegation-tokens.bat\n",
            "kafka_2.12-2.8.0/bin/windows/kafka-producer-perf-test.bat\n",
            "kafka_2.12-2.8.0/bin/windows/kafka-run-class.bat\n",
            "kafka_2.12-2.8.0/bin/windows/kafka-server-stop.bat\n",
            "kafka_2.12-2.8.0/bin/windows/kafka-streams-application-reset.bat\n",
            "kafka_2.12-2.8.0/bin/windows/kafka-dump-log.bat\n",
            "kafka_2.12-2.8.0/bin/windows/kafka-server-start.bat\n",
            "kafka_2.12-2.8.0/bin/windows/connect-standalone.bat\n",
            "kafka_2.12-2.8.0/bin/windows/kafka-preferred-replica-election.bat\n",
            "kafka_2.12-2.8.0/bin/windows/kafka-delete-records.bat\n",
            "kafka_2.12-2.8.0/bin/windows/kafka-acls.bat\n",
            "kafka_2.12-2.8.0/bin/windows/zookeeper-server-stop.bat\n",
            "kafka_2.12-2.8.0/bin/windows/zookeeper-shell.bat\n",
            "kafka_2.12-2.8.0/bin/windows/kafka-mirror-maker.bat\n",
            "kafka_2.12-2.8.0/bin/windows/kafka-replica-verification.bat\n",
            "kafka_2.12-2.8.0/bin/windows/kafka-topics.bat\n",
            "kafka_2.12-2.8.0/bin/windows/kafka-broker-api-versions.bat\n",
            "kafka_2.12-2.8.0/bin/windows/kafka-configs.bat\n",
            "kafka_2.12-2.8.0/bin/windows/kafka-consumer-groups.bat\n",
            "kafka_2.12-2.8.0/bin/windows/kafka-log-dirs.bat\n",
            "kafka_2.12-2.8.0/bin/windows/kafka-leader-election.bat\n",
            "kafka_2.12-2.8.0/bin/windows/kafka-console-consumer.bat\n",
            "kafka_2.12-2.8.0/bin/windows/kafka-console-producer.bat\n",
            "kafka_2.12-2.8.0/bin/windows/kafka-consumer-perf-test.bat\n",
            "kafka_2.12-2.8.0/bin/windows/zookeeper-server-start.bat\n",
            "kafka_2.12-2.8.0/bin/windows/kafka-reassign-partitions.bat\n",
            "kafka_2.12-2.8.0/bin/windows/connect-distributed.bat\n",
            "kafka_2.12-2.8.0/bin/zookeeper-server-start.sh\n",
            "kafka_2.12-2.8.0/bin/kafka-run-class.sh\n",
            "kafka_2.12-2.8.0/bin/kafka-metadata-shell.sh\n",
            "kafka_2.12-2.8.0/bin/zookeeper-security-migration.sh\n",
            "kafka_2.12-2.8.0/bin/kafka-topics.sh\n",
            "kafka_2.12-2.8.0/bin/kafka-preferred-replica-election.sh\n",
            "kafka_2.12-2.8.0/bin/kafka-mirror-maker.sh\n",
            "kafka_2.12-2.8.0/bin/kafka-leader-election.sh\n",
            "kafka_2.12-2.8.0/bin/connect-mirror-maker.sh\n",
            "kafka_2.12-2.8.0/bin/trogdor.sh\n",
            "kafka_2.12-2.8.0/bin/kafka-server-start.sh\n",
            "kafka_2.12-2.8.0/bin/kafka-streams-application-reset.sh\n",
            "kafka_2.12-2.8.0/bin/kafka-acls.sh\n",
            "kafka_2.12-2.8.0/bin/kafka-reassign-partitions.sh\n",
            "kafka_2.12-2.8.0/bin/kafka-features.sh\n",
            "kafka_2.12-2.8.0/bin/connect-standalone.sh\n",
            "kafka_2.12-2.8.0/bin/kafka-verifiable-consumer.sh\n",
            "kafka_2.12-2.8.0/bin/kafka-consumer-groups.sh\n",
            "kafka_2.12-2.8.0/bin/kafka-verifiable-producer.sh\n",
            "kafka_2.12-2.8.0/bin/kafka-consumer-perf-test.sh\n",
            "kafka_2.12-2.8.0/bin/kafka-broker-api-versions.sh\n",
            "kafka_2.12-2.8.0/bin/kafka-cluster.sh\n",
            "kafka_2.12-2.8.0/bin/kafka-dump-log.sh\n",
            "kafka_2.12-2.8.0/bin/connect-distributed.sh\n",
            "kafka_2.12-2.8.0/bin/kafka-delete-records.sh\n",
            "kafka_2.12-2.8.0/bin/kafka-replica-verification.sh\n",
            "kafka_2.12-2.8.0/bin/kafka-storage.sh\n",
            "kafka_2.12-2.8.0/bin/kafka-producer-perf-test.sh\n",
            "kafka_2.12-2.8.0/bin/kafka-console-producer.sh\n",
            "kafka_2.12-2.8.0/bin/kafka-delegation-tokens.sh\n",
            "kafka_2.12-2.8.0/bin/kafka-console-consumer.sh\n",
            "kafka_2.12-2.8.0/config/\n",
            "kafka_2.12-2.8.0/config/producer.properties\n",
            "kafka_2.12-2.8.0/config/connect-console-source.properties\n",
            "kafka_2.12-2.8.0/config/connect-distributed.properties\n",
            "kafka_2.12-2.8.0/config/zookeeper.properties\n",
            "kafka_2.12-2.8.0/config/log4j.properties\n",
            "kafka_2.12-2.8.0/config/connect-file-source.properties\n",
            "kafka_2.12-2.8.0/config/server.properties\n",
            "kafka_2.12-2.8.0/config/consumer.properties\n",
            "kafka_2.12-2.8.0/config/kraft/\n",
            "kafka_2.12-2.8.0/config/kraft/server.properties\n",
            "kafka_2.12-2.8.0/config/kraft/README.md\n",
            "kafka_2.12-2.8.0/config/kraft/controller.properties\n",
            "kafka_2.12-2.8.0/config/kraft/broker.properties\n",
            "kafka_2.12-2.8.0/config/connect-console-sink.properties\n",
            "kafka_2.12-2.8.0/config/connect-log4j.properties\n",
            "kafka_2.12-2.8.0/config/connect-file-sink.properties\n",
            "kafka_2.12-2.8.0/config/connect-mirror-maker.properties\n",
            "kafka_2.12-2.8.0/config/trogdor.conf\n",
            "kafka_2.12-2.8.0/config/connect-standalone.properties\n",
            "kafka_2.12-2.8.0/config/tools-log4j.properties\n",
            "kafka_2.12-2.8.0/licenses/\n",
            "kafka_2.12-2.8.0/licenses/CDDL+GPL-1.1\n",
            "kafka_2.12-2.8.0/licenses/zstd-jni-BSD-2-clause\n",
            "kafka_2.12-2.8.0/licenses/paranamer-BSD-3-clause\n",
            "kafka_2.12-2.8.0/licenses/slf4j-MIT\n",
            "kafka_2.12-2.8.0/licenses/jopt-simple-MIT\n",
            "kafka_2.12-2.8.0/licenses/eclipse-distribution-license-1.0\n",
            "kafka_2.12-2.8.0/licenses/DWTFYWTPL\n",
            "kafka_2.12-2.8.0/licenses/argparse-MIT\n",
            "kafka_2.12-2.8.0/licenses/eclipse-public-license-2.0\n",
            "kafka_2.12-2.8.0/libs/\n",
            "kafka_2.12-2.8.0/libs/kafka-raft-2.8.0.jar\n",
            "kafka_2.12-2.8.0/libs/kafka-metadata-2.8.0.jar\n",
            "kafka_2.12-2.8.0/libs/kafka-clients-2.8.0.jar\n",
            "kafka_2.12-2.8.0/libs/argparse4j-0.7.0.jar\n",
            "kafka_2.12-2.8.0/libs/jackson-module-scala_2.12-2.10.5.jar\n",
            "kafka_2.12-2.8.0/libs/jackson-dataformat-csv-2.10.5.jar\n",
            "kafka_2.12-2.8.0/libs/jackson-datatype-jdk8-2.10.5.jar\n",
            "kafka_2.12-2.8.0/libs/jackson-module-paranamer-2.10.5.jar\n",
            "kafka_2.12-2.8.0/libs/jackson-databind-2.10.5.1.jar\n",
            "kafka_2.12-2.8.0/libs/jopt-simple-5.0.4.jar\n",
            "kafka_2.12-2.8.0/libs/metrics-core-2.2.0.jar\n",
            "kafka_2.12-2.8.0/libs/scala-collection-compat_2.12-2.3.0.jar\n",
            "kafka_2.12-2.8.0/libs/scala-java8-compat_2.12-0.9.1.jar\n",
            "kafka_2.12-2.8.0/libs/scala-logging_2.12-3.9.2.jar\n",
            "kafka_2.12-2.8.0/libs/scala-reflect-2.12.13.jar\n",
            "kafka_2.12-2.8.0/libs/scala-library-2.12.13.jar\n",
            "kafka_2.12-2.8.0/libs/zookeeper-3.5.9.jar\n",
            "kafka_2.12-2.8.0/libs/slf4j-api-1.7.30.jar\n",
            "kafka_2.12-2.8.0/libs/commons-cli-1.4.jar\n",
            "kafka_2.12-2.8.0/libs/zstd-jni-1.4.9-1.jar\n",
            "kafka_2.12-2.8.0/libs/lz4-java-1.7.1.jar\n",
            "kafka_2.12-2.8.0/libs/snappy-java-1.1.8.1.jar\n",
            "kafka_2.12-2.8.0/libs/jackson-annotations-2.10.5.jar\n",
            "kafka_2.12-2.8.0/libs/jackson-core-2.10.5.jar\n",
            "kafka_2.12-2.8.0/libs/zookeeper-jute-3.5.9.jar\n",
            "kafka_2.12-2.8.0/libs/audience-annotations-0.5.0.jar\n",
            "kafka_2.12-2.8.0/libs/netty-handler-4.1.62.Final.jar\n",
            "kafka_2.12-2.8.0/libs/netty-transport-native-epoll-4.1.62.Final.jar\n",
            "kafka_2.12-2.8.0/libs/paranamer-2.8.jar\n",
            "kafka_2.12-2.8.0/libs/netty-codec-4.1.62.Final.jar\n",
            "kafka_2.12-2.8.0/libs/netty-transport-native-unix-common-4.1.62.Final.jar\n",
            "kafka_2.12-2.8.0/libs/netty-transport-4.1.62.Final.jar\n",
            "kafka_2.12-2.8.0/libs/netty-resolver-4.1.62.Final.jar\n",
            "kafka_2.12-2.8.0/libs/netty-buffer-4.1.62.Final.jar\n",
            "kafka_2.12-2.8.0/libs/netty-common-4.1.62.Final.jar\n",
            "kafka_2.12-2.8.0/libs/kafka_2.12-2.8.0.jar\n",
            "kafka_2.12-2.8.0/libs/kafka_2.12-2.8.0.jar.asc\n",
            "kafka_2.12-2.8.0/libs/kafka_2.12-2.8.0-sources.jar.asc\n",
            "kafka_2.12-2.8.0/libs/kafka_2.12-2.8.0-javadoc.jar.asc\n",
            "kafka_2.12-2.8.0/libs/kafka_2.12-2.8.0-test.jar.asc\n",
            "kafka_2.12-2.8.0/libs/kafka_2.12-2.8.0-test-sources.jar.asc\n",
            "kafka_2.12-2.8.0/libs/kafka_2.12-2.8.0-sources.jar\n",
            "kafka_2.12-2.8.0/libs/kafka_2.12-2.8.0-javadoc.jar\n",
            "kafka_2.12-2.8.0/libs/kafka_2.12-2.8.0-test.jar\n",
            "kafka_2.12-2.8.0/libs/kafka_2.12-2.8.0-test-sources.jar\n",
            "kafka_2.12-2.8.0/site-docs/\n",
            "kafka_2.12-2.8.0/site-docs/kafka_2.12-2.8.0-site-docs.tgz\n",
            "kafka_2.12-2.8.0/libs/kafka-tools-2.8.0.jar\n",
            "kafka_2.12-2.8.0/libs/kafka-log4j-appender-2.8.0.jar\n",
            "kafka_2.12-2.8.0/libs/jackson-jaxrs-json-provider-2.10.5.jar\n",
            "kafka_2.12-2.8.0/libs/jackson-jaxrs-base-2.10.5.jar\n",
            "kafka_2.12-2.8.0/libs/jackson-module-jaxb-annotations-2.10.5.jar\n",
            "kafka_2.12-2.8.0/libs/slf4j-log4j12-1.7.30.jar\n",
            "kafka_2.12-2.8.0/libs/jersey-container-servlet-2.31.jar\n",
            "kafka_2.12-2.8.0/libs/jersey-hk2-2.31.jar\n",
            "kafka_2.12-2.8.0/libs/jaxb-api-2.3.0.jar\n",
            "kafka_2.12-2.8.0/libs/activation-1.1.1.jar\n",
            "kafka_2.12-2.8.0/libs/jetty-servlet-9.4.39.v20210325.jar\n",
            "kafka_2.12-2.8.0/libs/jetty-security-9.4.39.v20210325.jar\n",
            "kafka_2.12-2.8.0/libs/jetty-server-9.4.39.v20210325.jar\n",
            "kafka_2.12-2.8.0/libs/jetty-servlets-9.4.39.v20210325.jar\n",
            "kafka_2.12-2.8.0/libs/jersey-container-servlet-core-2.31.jar\n",
            "kafka_2.12-2.8.0/libs/jersey-server-2.31.jar\n",
            "kafka_2.12-2.8.0/libs/jersey-client-2.31.jar\n",
            "kafka_2.12-2.8.0/libs/jersey-media-jaxb-2.31.jar\n",
            "kafka_2.12-2.8.0/libs/jersey-common-2.31.jar\n",
            "kafka_2.12-2.8.0/libs/jakarta.ws.rs-api-2.1.6.jar\n",
            "kafka_2.12-2.8.0/libs/hk2-locator-2.6.1.jar\n",
            "kafka_2.12-2.8.0/libs/javassist-3.27.0-GA.jar\n",
            "kafka_2.12-2.8.0/libs/javax.servlet-api-3.1.0.jar\n",
            "kafka_2.12-2.8.0/libs/jetty-http-9.4.39.v20210325.jar\n",
            "kafka_2.12-2.8.0/libs/jetty-io-9.4.39.v20210325.jar\n",
            "kafka_2.12-2.8.0/libs/jetty-util-ajax-9.4.39.v20210325.jar\n",
            "kafka_2.12-2.8.0/libs/jetty-continuation-9.4.39.v20210325.jar\n",
            "kafka_2.12-2.8.0/libs/jetty-util-9.4.39.v20210325.jar\n",
            "kafka_2.12-2.8.0/libs/log4j-1.2.17.jar\n",
            "kafka_2.12-2.8.0/libs/jakarta.xml.bind-api-2.3.2.jar\n",
            "kafka_2.12-2.8.0/libs/jakarta.activation-api-1.2.1.jar\n",
            "kafka_2.12-2.8.0/libs/hk2-api-2.6.1.jar\n",
            "kafka_2.12-2.8.0/libs/hk2-utils-2.6.1.jar\n",
            "kafka_2.12-2.8.0/libs/jakarta.inject-2.6.1.jar\n",
            "kafka_2.12-2.8.0/libs/jakarta.annotation-api-1.3.5.jar\n",
            "kafka_2.12-2.8.0/libs/osgi-resource-locator-1.0.3.jar\n",
            "kafka_2.12-2.8.0/libs/jakarta.validation-api-2.0.2.jar\n",
            "kafka_2.12-2.8.0/libs/aopalliance-repackaged-2.6.1.jar\n",
            "kafka_2.12-2.8.0/libs/kafka-shell-2.8.0.jar\n",
            "kafka_2.12-2.8.0/libs/jline-3.12.1.jar\n",
            "kafka_2.12-2.8.0/libs/connect-api-2.8.0.jar\n",
            "kafka_2.12-2.8.0/libs/javax.ws.rs-api-2.1.1.jar\n",
            "kafka_2.12-2.8.0/libs/connect-runtime-2.8.0.jar\n",
            "kafka_2.12-2.8.0/libs/connect-json-2.8.0.jar\n",
            "kafka_2.12-2.8.0/libs/connect-transforms-2.8.0.jar\n",
            "kafka_2.12-2.8.0/libs/jetty-client-9.4.39.v20210325.jar\n",
            "kafka_2.12-2.8.0/libs/reflections-0.9.12.jar\n",
            "kafka_2.12-2.8.0/libs/maven-artifact-3.6.3.jar\n",
            "kafka_2.12-2.8.0/libs/plexus-utils-3.2.1.jar\n",
            "kafka_2.12-2.8.0/libs/commons-lang3-3.8.1.jar\n",
            "kafka_2.12-2.8.0/libs/connect-file-2.8.0.jar\n",
            "kafka_2.12-2.8.0/libs/connect-basic-auth-extension-2.8.0.jar\n",
            "kafka_2.12-2.8.0/libs/connect-mirror-2.8.0.jar\n",
            "kafka_2.12-2.8.0/libs/connect-mirror-client-2.8.0.jar\n",
            "kafka_2.12-2.8.0/libs/kafka-streams-2.8.0.jar\n",
            "kafka_2.12-2.8.0/libs/rocksdbjni-5.18.4.jar\n",
            "kafka_2.12-2.8.0/libs/kafka-streams-scala_2.12-2.8.0.jar\n",
            "kafka_2.12-2.8.0/libs/kafka-streams-test-utils-2.8.0.jar\n",
            "kafka_2.12-2.8.0/libs/kafka-streams-examples-2.8.0.jar\n"
          ],
          "name": "stdout"
        }
      ]
    },
    {
      "cell_type": "markdown",
      "metadata": {
        "id": "__0pH7c-s-Ta"
      },
      "source": [
        "## RUN KAFKA ON ZOOKEEPER INSTANCES\n"
      ]
    },
    {
      "cell_type": "code",
      "metadata": {
        "id": "fH5UQU-VDhcC",
        "outputId": "fc6325cf-0a26-4f69-b81c-0e2084dd5920",
        "colab": {
          "base_uri": "https://localhost:8080/"
        }
      },
      "source": [
        "! sudo /content/kafka_2.12-2.8.0/bin/zookeeper-server-start.sh -daemon /content/kafka_2.12-2.8.0/config/zookeeper.properties\n",
        "! sudo /content/kafka_2.12-2.8.0/bin/kafka-server-start.sh -daemon /content/kafka_2.12-2.8.0/config/server.properties\n",
        "!echo \"Waiting for 10 secs until kafka and zookeeper services are up and running\"\n",
        "!sleep 10\n"
      ],
      "execution_count": 23,
      "outputs": [
        {
          "output_type": "stream",
          "text": [
            "Waiting for 10 secs until kafka and zookeeper services are up and running\n"
          ],
          "name": "stdout"
        }
      ]
    },
    {
      "cell_type": "code",
      "metadata": {
        "id": "pl8q_MMXEOZ2",
        "outputId": "37d7faf1-c48c-4a04-a64e-f9a471816e88",
        "colab": {
          "base_uri": "https://localhost:8080/"
        }
      },
      "source": [
        "! ps -ef | grep kafka"
      ],
      "execution_count": 24,
      "outputs": [
        {
          "output_type": "stream",
          "text": [
            "root        4647       1  3 20:12 ?        00:00:02 java -Xmx512M -Xms512M -server -XX:+UseG1GC -XX:MaxGCPauseMillis=20 -XX:InitiatingHeapOccupancyPercent=35 -XX:+ExplicitGCInvokesConcurrent -XX:MaxInlineLevel=15 -Djava.awt.headless=true -Xlog:gc*:file=/content/kafka_2.12-2.8.0/bin/../logs/zookeeper-gc.log:time,tags:filecount=10,filesize=100M -Dcom.sun.management.jmxremote -Dcom.sun.management.jmxremote.authenticate=false -Dcom.sun.management.jmxremote.ssl=false -Dkafka.logs.dir=/content/kafka_2.12-2.8.0/bin/../logs -Dlog4j.configuration=file:/content/kafka_2.12-2.8.0/bin/../config/log4j.properties -cp /content/kafka_2.12-2.8.0/bin/../libs/activation-1.1.1.jar:/content/kafka_2.12-2.8.0/bin/../libs/aopalliance-repackaged-2.6.1.jar:/content/kafka_2.12-2.8.0/bin/../libs/argparse4j-0.7.0.jar:/content/kafka_2.12-2.8.0/bin/../libs/audience-annotations-0.5.0.jar:/content/kafka_2.12-2.8.0/bin/../libs/commons-cli-1.4.jar:/content/kafka_2.12-2.8.0/bin/../libs/commons-lang3-3.8.1.jar:/content/kafka_2.12-2.8.0/bin/../libs/connect-api-2.8.0.jar:/content/kafka_2.12-2.8.0/bin/../libs/connect-basic-auth-extension-2.8.0.jar:/content/kafka_2.12-2.8.0/bin/../libs/connect-file-2.8.0.jar:/content/kafka_2.12-2.8.0/bin/../libs/connect-json-2.8.0.jar:/content/kafka_2.12-2.8.0/bin/../libs/connect-mirror-2.8.0.jar:/content/kafka_2.12-2.8.0/bin/../libs/connect-mirror-client-2.8.0.jar:/content/kafka_2.12-2.8.0/bin/../libs/connect-runtime-2.8.0.jar:/content/kafka_2.12-2.8.0/bin/../libs/connect-transforms-2.8.0.jar:/content/kafka_2.12-2.8.0/bin/../libs/hk2-api-2.6.1.jar:/content/kafka_2.12-2.8.0/bin/../libs/hk2-locator-2.6.1.jar:/content/kafka_2.12-2.8.0/bin/../libs/hk2-utils-2.6.1.jar:/content/kafka_2.12-2.8.0/bin/../libs/jackson-annotations-2.10.5.jar:/content/kafka_2.12-2.8.0/bin/../libs/jackson-core-2.10.5.jar:/content/kafka_2.12-2.8.0/bin/../libs/jackson-databind-2.10.5.1.jar:/content/kafka_2.12-2.8.0/bin/../libs/jackson-dataformat-csv-2.10.5.jar:/content/kafka_2.12-2.8.0/bin/../libs/jackson-datatype-jdk8-2.10.5.jar:/content/kafka_2.12-2.8.0/bin/../libs/jackson-jaxrs-base-2.10.5.jar:/content/kafka_2.12-2.8.0/bin/../libs/jackson-jaxrs-json-provider-2.10.5.jar:/content/kafka_2.12-2.8.0/bin/../libs/jackson-module-jaxb-annotations-2.10.5.jar:/content/kafka_2.12-2.8.0/bin/../libs/jackson-module-paranamer-2.10.5.jar:/content/kafka_2.12-2.8.0/bin/../libs/jackson-module-scala_2.12-2.10.5.jar:/content/kafka_2.12-2.8.0/bin/../libs/jakarta.activation-api-1.2.1.jar:/content/kafka_2.12-2.8.0/bin/../libs/jakarta.annotation-api-1.3.5.jar:/content/kafka_2.12-2.8.0/bin/../libs/jakarta.inject-2.6.1.jar:/content/kafka_2.12-2.8.0/bin/../libs/jakarta.validation-api-2.0.2.jar:/content/kafka_2.12-2.8.0/bin/../libs/jakarta.ws.rs-api-2.1.6.jar:/content/kafka_2.12-2.8.0/bin/../libs/jakarta.xml.bind-api-2.3.2.jar:/content/kafka_2.12-2.8.0/bin/../libs/javassist-3.27.0-GA.jar:/content/kafka_2.12-2.8.0/bin/../libs/javax.servlet-api-3.1.0.jar:/content/kafka_2.12-2.8.0/bin/../libs/javax.ws.rs-api-2.1.1.jar:/content/kafka_2.12-2.8.0/bin/../libs/jaxb-api-2.3.0.jar:/content/kafka_2.12-2.8.0/bin/../libs/jersey-client-2.31.jar:/content/kafka_2.12-2.8.0/bin/../libs/jersey-common-2.31.jar:/content/kafka_2.12-2.8.0/bin/../libs/jersey-container-servlet-2.31.jar:/content/kafka_2.12-2.8.0/bin/../libs/jersey-container-servlet-core-2.31.jar:/content/kafka_2.12-2.8.0/bin/../libs/jersey-hk2-2.31.jar:/content/kafka_2.12-2.8.0/bin/../libs/jersey-media-jaxb-2.31.jar:/content/kafka_2.12-2.8.0/bin/../libs/jersey-server-2.31.jar:/content/kafka_2.12-2.8.0/bin/../libs/jetty-client-9.4.39.v20210325.jar:/content/kafka_2.12-2.8.0/bin/../libs/jetty-continuation-9.4.39.v20210325.jar:/content/kafka_2.12-2.8.0/bin/../libs/jetty-http-9.4.39.v20210325.jar:/content/kafka_2.12-2.8.0/bin/../libs/jetty-io-9.4.39.v20210325.jar:/content/kafka_2.12-2.8.0/bin/../libs/jetty-security-9.4.39.v20210325.jar:/content/kafka_2.12-2.8.0/bin/../libs/jetty-server-9.4.39.v20210325.jar:/content/kafka_2.12-2.8.0/bin/../libs/jetty-servlet-9.4.39.v20210325.jar:/content/kafka_2.12-2.8.0/bin/../libs/jetty-servlets-9.4.39.v20210325.jar:/content/kafka_2.12-2.8.0/bin/../libs/jetty-util-9.4.39.v20210325.jar:/content/kafka_2.12-2.8.0/bin/../libs/jetty-util-ajax-9.4.39.v20210325.jar:/content/kafka_2.12-2.8.0/bin/../libs/jline-3.12.1.jar:/content/kafka_2.12-2.8.0/bin/../libs/jopt-simple-5.0.4.jar:/content/kafka_2.12-2.8.0/bin/../libs/kafka_2.12-2.8.0.jar:/content/kafka_2.12-2.8.0/bin/../libs/kafka_2.12-2.8.0-sources.jar:/content/kafka_2.12-2.8.0/bin/../libs/kafka-clients-2.8.0.jar:/content/kafka_2.12-2.8.0/bin/../libs/kafka-log4j-appender-2.8.0.jar:/content/kafka_2.12-2.8.0/bin/../libs/kafka-metadata-2.8.0.jar:/content/kafka_2.12-2.8.0/bin/../libs/kafka-raft-2.8.0.jar:/content/kafka_2.12-2.8.0/bin/../libs/kafka-shell-2.8.0.jar:/content/kafka_2.12-2.8.0/bin/../libs/kafka-streams-2.8.0.jar:/content/kafka_2.12-2.8.0/bin/../libs/kafka-streams-examples-2.8.0.jar:/content/kafka_2.12-2.8.0/bin/../libs/kafka-streams-scala_2.12-2.8.0.jar:/content/kafka_2.12-2.8.0/bin/../libs/kafka-streams-test-utils-2.8.0.jar:/content/kafka_2.12-2.8.0/bin/../libs/kafka-tools-2.8.0.jar:/content/kafka_2.12-2.8.0/bin/../libs/log4j-1.2.17.jar:/content/kafka_2.12-2.8.0/bin/../libs/lz4-java-1.7.1.jar:/content/kafka_2.12-2.8.0/bin/../libs/maven-artifact-3.6.3.jar:/content/kafka_2.12-2.8.0/bin/../libs/metrics-core-2.2.0.jar:/content/kafka_2.12-2.8.0/bin/../libs/netty-buffer-4.1.62.Final.jar:/content/kafka_2.12-2.8.0/bin/../libs/netty-codec-4.1.62.Final.jar:/content/kafka_2.12-2.8.0/bin/../libs/netty-common-4.1.62.Final.jar:/content/kafka_2.12-2.8.0/bin/../libs/netty-handler-4.1.62.Final.jar:/content/kafka_2.12-2.8.0/bin/../libs/netty-resolver-4.1.62.Final.jar:/content/kafka_2.12-2.8.0/bin/../libs/netty-transport-4.1.62.Final.jar:/content/kafka_2.12-2.8.0/bin/../libs/netty-transport-native-epoll-4.1.62.Final.jar:/content/kafka_2.12-2.8.0/bin/../libs/netty-transport-native-unix-common-4.1.62.Final.jar:/content/kafka_2.12-2.8.0/bin/../libs/osgi-resource-locator-1.0.3.jar:/content/kafka_2.12-2.8.0/bin/../libs/paranamer-2.8.jar:/content/kafka_2.12-2.8.0/bin/../libs/plexus-utils-3.2.1.jar:/content/kafka_2.12-2.8.0/bin/../libs/reflections-0.9.12.jar:/content/kafka_2.12-2.8.0/bin/../libs/rocksdbjni-5.18.4.jar:/content/kafka_2.12-2.8.0/bin/../libs/scala-collection-compat_2.12-2.3.0.jar:/content/kafka_2.12-2.8.0/bin/../libs/scala-java8-compat_2.12-0.9.1.jar:/content/kafka_2.12-2.8.0/bin/../libs/scala-library-2.12.13.jar:/content/kafka_2.12-2.8.0/bin/../libs/scala-logging_2.12-3.9.2.jar:/content/kafka_2.12-2.8.0/bin/../libs/scala-reflect-2.12.13.jar:/content/kafka_2.12-2.8.0/bin/../libs/slf4j-api-1.7.30.jar:/content/kafka_2.12-2.8.0/bin/../libs/slf4j-log4j12-1.7.30.jar:/content/kafka_2.12-2.8.0/bin/../libs/snappy-java-1.1.8.1.jar:/content/kafka_2.12-2.8.0/bin/../libs/zookeeper-3.5.9.jar:/content/kafka_2.12-2.8.0/bin/../libs/zookeeper-jute-3.5.9.jar:/content/kafka_2.12-2.8.0/bin/../libs/zstd-jni-1.4.9-1.jar org.apache.zookeeper.server.quorum.QuorumPeerMain /content/kafka_2.12-2.8.0/config/zookeeper.properties\n",
            "root        5010       1 14 20:12 ?        00:00:07 java -Xmx1G -Xms1G -server -XX:+UseG1GC -XX:MaxGCPauseMillis=20 -XX:InitiatingHeapOccupancyPercent=35 -XX:+ExplicitGCInvokesConcurrent -XX:MaxInlineLevel=15 -Djava.awt.headless=true -Xlog:gc*:file=/content/kafka_2.12-2.8.0/bin/../logs/kafkaServer-gc.log:time,tags:filecount=10,filesize=100M -Dcom.sun.management.jmxremote -Dcom.sun.management.jmxremote.authenticate=false -Dcom.sun.management.jmxremote.ssl=false -Dkafka.logs.dir=/content/kafka_2.12-2.8.0/bin/../logs -Dlog4j.configuration=file:/content/kafka_2.12-2.8.0/bin/../config/log4j.properties -cp /content/kafka_2.12-2.8.0/bin/../libs/activation-1.1.1.jar:/content/kafka_2.12-2.8.0/bin/../libs/aopalliance-repackaged-2.6.1.jar:/content/kafka_2.12-2.8.0/bin/../libs/argparse4j-0.7.0.jar:/content/kafka_2.12-2.8.0/bin/../libs/audience-annotations-0.5.0.jar:/content/kafka_2.12-2.8.0/bin/../libs/commons-cli-1.4.jar:/content/kafka_2.12-2.8.0/bin/../libs/commons-lang3-3.8.1.jar:/content/kafka_2.12-2.8.0/bin/../libs/connect-api-2.8.0.jar:/content/kafka_2.12-2.8.0/bin/../libs/connect-basic-auth-extension-2.8.0.jar:/content/kafka_2.12-2.8.0/bin/../libs/connect-file-2.8.0.jar:/content/kafka_2.12-2.8.0/bin/../libs/connect-json-2.8.0.jar:/content/kafka_2.12-2.8.0/bin/../libs/connect-mirror-2.8.0.jar:/content/kafka_2.12-2.8.0/bin/../libs/connect-mirror-client-2.8.0.jar:/content/kafka_2.12-2.8.0/bin/../libs/connect-runtime-2.8.0.jar:/content/kafka_2.12-2.8.0/bin/../libs/connect-transforms-2.8.0.jar:/content/kafka_2.12-2.8.0/bin/../libs/hk2-api-2.6.1.jar:/content/kafka_2.12-2.8.0/bin/../libs/hk2-locator-2.6.1.jar:/content/kafka_2.12-2.8.0/bin/../libs/hk2-utils-2.6.1.jar:/content/kafka_2.12-2.8.0/bin/../libs/jackson-annotations-2.10.5.jar:/content/kafka_2.12-2.8.0/bin/../libs/jackson-core-2.10.5.jar:/content/kafka_2.12-2.8.0/bin/../libs/jackson-databind-2.10.5.1.jar:/content/kafka_2.12-2.8.0/bin/../libs/jackson-dataformat-csv-2.10.5.jar:/content/kafka_2.12-2.8.0/bin/../libs/jackson-datatype-jdk8-2.10.5.jar:/content/kafka_2.12-2.8.0/bin/../libs/jackson-jaxrs-base-2.10.5.jar:/content/kafka_2.12-2.8.0/bin/../libs/jackson-jaxrs-json-provider-2.10.5.jar:/content/kafka_2.12-2.8.0/bin/../libs/jackson-module-jaxb-annotations-2.10.5.jar:/content/kafka_2.12-2.8.0/bin/../libs/jackson-module-paranamer-2.10.5.jar:/content/kafka_2.12-2.8.0/bin/../libs/jackson-module-scala_2.12-2.10.5.jar:/content/kafka_2.12-2.8.0/bin/../libs/jakarta.activation-api-1.2.1.jar:/content/kafka_2.12-2.8.0/bin/../libs/jakarta.annotation-api-1.3.5.jar:/content/kafka_2.12-2.8.0/bin/../libs/jakarta.inject-2.6.1.jar:/content/kafka_2.12-2.8.0/bin/../libs/jakarta.validation-api-2.0.2.jar:/content/kafka_2.12-2.8.0/bin/../libs/jakarta.ws.rs-api-2.1.6.jar:/content/kafka_2.12-2.8.0/bin/../libs/jakarta.xml.bind-api-2.3.2.jar:/content/kafka_2.12-2.8.0/bin/../libs/javassist-3.27.0-GA.jar:/content/kafka_2.12-2.8.0/bin/../libs/javax.servlet-api-3.1.0.jar:/content/kafka_2.12-2.8.0/bin/../libs/javax.ws.rs-api-2.1.1.jar:/content/kafka_2.12-2.8.0/bin/../libs/jaxb-api-2.3.0.jar:/content/kafka_2.12-2.8.0/bin/../libs/jersey-client-2.31.jar:/content/kafka_2.12-2.8.0/bin/../libs/jersey-common-2.31.jar:/content/kafka_2.12-2.8.0/bin/../libs/jersey-container-servlet-2.31.jar:/content/kafka_2.12-2.8.0/bin/../libs/jersey-container-servlet-core-2.31.jar:/content/kafka_2.12-2.8.0/bin/../libs/jersey-hk2-2.31.jar:/content/kafka_2.12-2.8.0/bin/../libs/jersey-media-jaxb-2.31.jar:/content/kafka_2.12-2.8.0/bin/../libs/jersey-server-2.31.jar:/content/kafka_2.12-2.8.0/bin/../libs/jetty-client-9.4.39.v20210325.jar:/content/kafka_2.12-2.8.0/bin/../libs/jetty-continuation-9.4.39.v20210325.jar:/content/kafka_2.12-2.8.0/bin/../libs/jetty-http-9.4.39.v20210325.jar:/content/kafka_2.12-2.8.0/bin/../libs/jetty-io-9.4.39.v20210325.jar:/content/kafka_2.12-2.8.0/bin/../libs/jetty-security-9.4.39.v20210325.jar:/content/kafka_2.12-2.8.0/bin/../libs/jetty-server-9.4.39.v20210325.jar:/content/kafka_2.12-2.8.0/bin/../libs/jetty-servlet-9.4.39.v20210325.jar:/content/kafka_2.12-2.8.0/bin/../libs/jetty-servlets-9.4.39.v20210325.jar:/content/kafka_2.12-2.8.0/bin/../libs/jetty-util-9.4.39.v20210325.jar:/content/kafka_2.12-2.8.0/bin/../libs/jetty-util-ajax-9.4.39.v20210325.jar:/content/kafka_2.12-2.8.0/bin/../libs/jline-3.12.1.jar:/content/kafka_2.12-2.8.0/bin/../libs/jopt-simple-5.0.4.jar:/content/kafka_2.12-2.8.0/bin/../libs/kafka_2.12-2.8.0.jar:/content/kafka_2.12-2.8.0/bin/../libs/kafka_2.12-2.8.0-sources.jar:/content/kafka_2.12-2.8.0/bin/../libs/kafka-clients-2.8.0.jar:/content/kafka_2.12-2.8.0/bin/../libs/kafka-log4j-appender-2.8.0.jar:/content/kafka_2.12-2.8.0/bin/../libs/kafka-metadata-2.8.0.jar:/content/kafka_2.12-2.8.0/bin/../libs/kafka-raft-2.8.0.jar:/content/kafka_2.12-2.8.0/bin/../libs/kafka-shell-2.8.0.jar:/content/kafka_2.12-2.8.0/bin/../libs/kafka-streams-2.8.0.jar:/content/kafka_2.12-2.8.0/bin/../libs/kafka-streams-examples-2.8.0.jar:/content/kafka_2.12-2.8.0/bin/../libs/kafka-streams-scala_2.12-2.8.0.jar:/content/kafka_2.12-2.8.0/bin/../libs/kafka-streams-test-utils-2.8.0.jar:/content/kafka_2.12-2.8.0/bin/../libs/kafka-tools-2.8.0.jar:/content/kafka_2.12-2.8.0/bin/../libs/log4j-1.2.17.jar:/content/kafka_2.12-2.8.0/bin/../libs/lz4-java-1.7.1.jar:/content/kafka_2.12-2.8.0/bin/../libs/maven-artifact-3.6.3.jar:/content/kafka_2.12-2.8.0/bin/../libs/metrics-core-2.2.0.jar:/content/kafka_2.12-2.8.0/bin/../libs/netty-buffer-4.1.62.Final.jar:/content/kafka_2.12-2.8.0/bin/../libs/netty-codec-4.1.62.Final.jar:/content/kafka_2.12-2.8.0/bin/../libs/netty-common-4.1.62.Final.jar:/content/kafka_2.12-2.8.0/bin/../libs/netty-handler-4.1.62.Final.jar:/content/kafka_2.12-2.8.0/bin/../libs/netty-resolver-4.1.62.Final.jar:/content/kafka_2.12-2.8.0/bin/../libs/netty-transport-4.1.62.Final.jar:/content/kafka_2.12-2.8.0/bin/../libs/netty-transport-native-epoll-4.1.62.Final.jar:/content/kafka_2.12-2.8.0/bin/../libs/netty-transport-native-unix-common-4.1.62.Final.jar:/content/kafka_2.12-2.8.0/bin/../libs/osgi-resource-locator-1.0.3.jar:/content/kafka_2.12-2.8.0/bin/../libs/paranamer-2.8.jar:/content/kafka_2.12-2.8.0/bin/../libs/plexus-utils-3.2.1.jar:/content/kafka_2.12-2.8.0/bin/../libs/reflections-0.9.12.jar:/content/kafka_2.12-2.8.0/bin/../libs/rocksdbjni-5.18.4.jar:/content/kafka_2.12-2.8.0/bin/../libs/scala-collection-compat_2.12-2.3.0.jar:/content/kafka_2.12-2.8.0/bin/../libs/scala-java8-compat_2.12-0.9.1.jar:/content/kafka_2.12-2.8.0/bin/../libs/scala-library-2.12.13.jar:/content/kafka_2.12-2.8.0/bin/../libs/scala-logging_2.12-3.9.2.jar:/content/kafka_2.12-2.8.0/bin/../libs/scala-reflect-2.12.13.jar:/content/kafka_2.12-2.8.0/bin/../libs/slf4j-api-1.7.30.jar:/content/kafka_2.12-2.8.0/bin/../libs/slf4j-log4j12-1.7.30.jar:/content/kafka_2.12-2.8.0/bin/../libs/snappy-java-1.1.8.1.jar:/content/kafka_2.12-2.8.0/bin/../libs/zookeeper-3.5.9.jar:/content/kafka_2.12-2.8.0/bin/../libs/zookeeper-jute-3.5.9.jar:/content/kafka_2.12-2.8.0/bin/../libs/zstd-jni-1.4.9-1.jar kafka.Kafka /content/kafka_2.12-2.8.0/config/server.properties\n",
            "root        5098      62  0 20:13 ?        00:00:00 /bin/bash -c  ps -ef | grep kafka\n",
            "root        5100    5098  0 20:13 ?        00:00:00 grep kafka\n"
          ],
          "name": "stdout"
        }
      ]
    },
    {
      "cell_type": "markdown",
      "metadata": {
        "id": "bSOPsckXFHY0"
      },
      "source": [
        "## CREATE TOPIC 'TESTING'\n"
      ]
    },
    {
      "cell_type": "code",
      "metadata": {
        "colab": {
          "base_uri": "https://localhost:8080/"
        },
        "id": "a9B0lMBByLXa",
        "outputId": "5eaf00f2-73a3-4a23-bb73-d59b19f6daf4"
      },
      "source": [
        "!sudo /content/kafka_2.13-2.7.0/bin/kafka-topics.sh --create --bootstrap-server 127.0.0.1:9092 --replication-factor 1 --partitions 1 --topic testing\n"
      ],
      "execution_count": 25,
      "outputs": [
        {
          "output_type": "stream",
          "text": [
            "Created topic testing.\n"
          ],
          "name": "stdout"
        }
      ]
    },
    {
      "cell_type": "markdown",
      "metadata": {
        "id": "d7-yUL_7FNX8"
      },
      "source": [
        "# PROJECT WORK"
      ]
    },
    {
      "cell_type": "code",
      "metadata": {
        "id": "-llwnFBdFzcT"
      },
      "source": [
        "! mkdir kafkaDemo \n",
        "! cd kafkaDemo"
      ],
      "execution_count": 26,
      "outputs": []
    },
    {
      "cell_type": "code",
      "metadata": {
        "id": "iQ03aWvCG8XP",
        "outputId": "e856c747-f6cd-45ca-835a-fca1ec4f5549",
        "colab": {
          "base_uri": "https://localhost:8080/"
        }
      },
      "source": [
        "! pip install virtualenv"
      ],
      "execution_count": 28,
      "outputs": [
        {
          "output_type": "stream",
          "text": [
            "Collecting virtualenv\n",
            "  Downloading virtualenv-20.7.0-py2.py3-none-any.whl (5.3 MB)\n",
            "\u001b[K     |████████████████████████████████| 5.3 MB 4.9 MB/s \n",
            "\u001b[?25hRequirement already satisfied: importlib-metadata>=0.12 in /usr/local/lib/python3.7/dist-packages (from virtualenv) (4.6.1)\n",
            "Collecting platformdirs<3,>=2\n",
            "  Downloading platformdirs-2.2.0-py3-none-any.whl (13 kB)\n",
            "Collecting distlib<1,>=0.3.1\n",
            "  Downloading distlib-0.3.2-py2.py3-none-any.whl (338 kB)\n",
            "\u001b[K     |████████████████████████████████| 338 kB 50.6 MB/s \n",
            "\u001b[?25hRequirement already satisfied: six<2,>=1.9.0 in /usr/local/lib/python3.7/dist-packages (from virtualenv) (1.15.0)\n",
            "Collecting backports.entry-points-selectable>=1.0.4\n",
            "  Downloading backports.entry_points_selectable-1.1.0-py2.py3-none-any.whl (6.2 kB)\n",
            "Requirement already satisfied: filelock<4,>=3.0.0 in /usr/local/lib/python3.7/dist-packages (from virtualenv) (3.0.12)\n",
            "Requirement already satisfied: zipp>=0.5 in /usr/local/lib/python3.7/dist-packages (from importlib-metadata>=0.12->virtualenv) (3.5.0)\n",
            "Requirement already satisfied: typing-extensions>=3.6.4 in /usr/local/lib/python3.7/dist-packages (from importlib-metadata>=0.12->virtualenv) (3.7.4.3)\n",
            "Installing collected packages: platformdirs, distlib, backports.entry-points-selectable, virtualenv\n",
            "Successfully installed backports.entry-points-selectable-1.1.0 distlib-0.3.2 platformdirs-2.2.0 virtualenv-20.7.0\n"
          ],
          "name": "stdout"
        }
      ]
    },
    {
      "cell_type": "code",
      "metadata": {
        "id": "DpQwehulGuyp",
        "outputId": "8eb5bf8f-a8d5-4dd2-a878-92c9c5156f96",
        "colab": {
          "base_uri": "https://localhost:8080/"
        }
      },
      "source": [
        "! virtualenv env\n"
      ],
      "execution_count": 29,
      "outputs": [
        {
          "output_type": "stream",
          "text": [
            "created virtual environment CPython3.7.11.final.0-64 in 740ms\n",
            "  creator CPython3Posix(dest=/content/env, clear=False, no_vcs_ignore=False, global=False)\n",
            "  seeder FromAppData(download=False, pip=bundle, setuptools=bundle, wheel=bundle, via=copy, app_data_dir=/root/.local/share/virtualenv)\n",
            "    added seed packages: pip==21.2.2, setuptools==57.4.0, wheel==0.36.2\n",
            "  activators BashActivator,CShellActivator,FishActivator,PowerShellActivator,PythonActivator\n"
          ],
          "name": "stdout"
        }
      ]
    },
    {
      "cell_type": "code",
      "metadata": {
        "id": "XNYT_2icHKBG"
      },
      "source": [
        "! source /content/env/bin/activate pip install kafka-python opencv-contrib-python Flask"
      ],
      "execution_count": 41,
      "outputs": []
    },
    {
      "cell_type": "markdown",
      "metadata": {
        "id": "2VhW1WY2FeuE"
      },
      "source": [
        "## SETUP CLIENT"
      ]
    },
    {
      "cell_type": "code",
      "metadata": {
        "id": "WtgtOAN4Ijsm",
        "outputId": "e25b6a46-5240-4679-b8e2-05b4d320e484",
        "colab": {
          "base_uri": "https://localhost:8080/"
        }
      },
      "source": [
        "! pip install kafka-python\n",
        "! pip install opencv-python\n",
        "! pip install Flask"
      ],
      "execution_count": 47,
      "outputs": [
        {
          "output_type": "stream",
          "text": [
            "Requirement already satisfied: kafka-python in /usr/local/lib/python3.7/dist-packages (2.0.2)\n",
            "Requirement already satisfied: opencv-python in /usr/local/lib/python3.7/dist-packages (4.1.2.30)\n",
            "Requirement already satisfied: numpy>=1.14.5 in /usr/local/lib/python3.7/dist-packages (from opencv-python) (1.19.5)\n",
            "Requirement already satisfied: Flask in /usr/local/lib/python3.7/dist-packages (1.1.4)\n",
            "Requirement already satisfied: click<8.0,>=5.1 in /usr/local/lib/python3.7/dist-packages (from Flask) (7.1.2)\n",
            "Requirement already satisfied: itsdangerous<2.0,>=0.24 in /usr/local/lib/python3.7/dist-packages (from Flask) (1.1.0)\n",
            "Requirement already satisfied: Jinja2<3.0,>=2.10.1 in /usr/local/lib/python3.7/dist-packages (from Flask) (2.11.3)\n",
            "Requirement already satisfied: Werkzeug<2.0,>=0.15 in /usr/local/lib/python3.7/dist-packages (from Flask) (1.0.1)\n",
            "Requirement already satisfied: MarkupSafe>=0.23 in /usr/local/lib/python3.7/dist-packages (from Jinja2<3.0,>=2.10.1->Flask) (2.0.1)\n"
          ],
          "name": "stdout"
        }
      ]
    },
    {
      "cell_type": "markdown",
      "metadata": {
        "id": "Xa0QRyVGKifo"
      },
      "source": [
        "## THE PRODUCER (THE FIRST CLIENT)\n",
        "### FOR CONVERTING VIDEOS INTO A STREAM OF IMAGES(JPEGS)"
      ]
    },
    {
      "cell_type": "markdown",
      "metadata": {
        "id": "HO78tkN5PFT8"
      },
      "source": [
        "## THE CONSUMER (SECOND CLIENT)"
      ]
    }
  ]
}